{
 "cells": [
  {
   "cell_type": "code",
   "execution_count": 1,
   "id": "f7dd8816",
   "metadata": {},
   "outputs": [],
   "source": [
    "import matplotlib.pyplot as plt\n",
    "import numpy as np \n",
    "from cvxopt import matrix, solvers\n",
    "import seaborn as sns\n",
    "from sklearn.datasets import load_iris\n",
    "from sklearn.model_selection import train_test_split\n",
    "from sklearn.svm import SVC\n",
    "from sklearn.metrics import accuracy_score\n",
    "from sklearn.preprocessing import LabelEncoder\n",
    "from sklearn.decomposition import PCA\n",
    "def load_split_dataset():\n",
    "    iris = load_iris()\n",
    "    x = iris.data\n",
    "    y = iris.target\n",
    "    class_1 = 1  \n",
    "    class_2 = 2 \n",
    "    binary_x = x[(y == class_1) | (y == class_2)]\n",
    "    binary_y = y[(y == class_1) | (y == class_2)]\n",
    "    label_encoder = LabelEncoder()\n",
    "    binary_y = label_encoder.fit_transform(binary_y)\n",
    "    x_train, x_test, y_train, y_test = train_test_split(binary_x, binary_y, test_size=0.2, random_state=42)\n",
    "    return x_train, x_test, y_train, y_test\n",
    "\n",
    "if __name__ ==\"__main__\":\n",
    "    X_train, X_test, y_train, y_test = load_split_dataset()\n",
    "    \n",
    "    \n",
    "y_train = np.where(y_train == 0, -1, y_train)\n",
    "y_train = y_train.reshape(y_train.shape[0] , 1)\n",
    "y_test = np.where(y_test == 0, -1, y_test)\n",
    "y_test = y_test.reshape(y_test.shape[0] , 1)\n",
    "\n",
    "change_y_index = np.where(y_train == 0)\n",
    "for i in change_y_index:\n",
    "    y_train[i] = -1"
   ]
  },
  {
   "cell_type": "markdown",
   "id": "e518e172",
   "metadata": {},
   "source": [
    "# Primal problem $( min  W1 , W2 ,W3  )$\n",
    "## This Function return weights and biase of Line "
   ]
  },
  {
   "cell_type": "code",
   "execution_count": 2,
   "id": "42ed4772",
   "metadata": {},
   "outputs": [
    {
     "name": "stdout",
     "output_type": "stream",
     "text": [
      "     pcost       dcost       gap    pres   dres\n",
      " 0: -6.8060e+03  4.7544e+03  2e+04  2e+01  7e+00\n",
      " 1:  5.1333e+02 -7.6964e+02  3e+03  2e+00  7e-01\n",
      " 2:  1.3081e+02 -8.4536e+01  3e+02  2e-01  5e-02\n",
      " 3:  7.8292e+01  2.1074e+00  9e+01  3e-02  1e-02\n",
      " 4:  5.4717e+01  2.3082e+01  4e+01  1e-02  3e-03\n",
      " 5:  4.1460e+01  3.2457e+01  1e+01  1e-03  3e-04\n",
      " 6:  3.9962e+01  3.5420e+01  5e+00  9e-05  3e-05\n",
      " 7:  3.7683e+01  3.6831e+01  9e-01  6e-06  2e-06\n",
      " 8:  3.7189e+01  3.7175e+01  1e-02  6e-08  2e-08\n",
      " 9:  3.7182e+01  3.7181e+01  1e-04  6e-10  2e-10\n",
      "10:  3.7181e+01  3.7181e+01  1e-06  6e-12  2e-12\n",
      "Optimal solution found.\n"
     ]
    },
    {
     "data": {
      "text/plain": [
       "array([-0.82057721, -1.73051686,  2.39600963,  3.62226486, -7.59277309])"
      ]
     },
     "execution_count": 2,
     "metadata": {},
     "output_type": "execute_result"
    }
   ],
   "source": [
    "def linear_svm_primal_C(data_x , data_y , c):\n",
    "#     first matrix Quadratic form \n",
    "    m = data_x.shape[1]\n",
    "    n = data_x.shape[0]\n",
    "    mx_1 = np.zeros((m + n + 1 , m + n + 1 ))\n",
    "    mx_1[0][0] = 1\n",
    "    mx_1[1][1] = 1\n",
    "    mx_1[2][2] = 1\n",
    "    mx_1[3][3] = 1\n",
    "    \n",
    "#     second matrix Quadratic form\n",
    "    mx_2 = c * np.ones( n + m + 1 )\n",
    "    mx_2[0] = 0\n",
    "    mx_2[1] = 0\n",
    "    mx_2[2] = 0\n",
    "    mx_2[3] = 0\n",
    "    mx_2[4] = 0\n",
    "    \n",
    "    \n",
    "\n",
    "#     third matrix inequality constraiont \n",
    "    mx_3_1_1 = np.concatenate((data_x , np.ones(n).reshape(-1,1) ) , axis=1)\n",
    "    mx_3_1_1 = -1 * mx_3_1_1 * data_y.reshape(data_y.shape[0] , 1)\n",
    "    \n",
    "    mx_3_1_2 = -1*np.eye(n)\n",
    "    \n",
    "    mx_3_2_1 = np.zeros((n,5))\n",
    "    \n",
    "    mx_3_2_2 = -1* np.eye(n)\n",
    "    \n",
    "    mx_3_1 = np.concatenate((mx_3_1_1 , mx_3_1_2) , axis = 1)\n",
    "    mx_3_2 = np.concatenate((mx_3_2_1 , mx_3_2_2) , axis = 1)\n",
    "    \n",
    "    mx_3 = np.concatenate((mx_3_1 , mx_3_2) , axis = 0)\n",
    "    \n",
    "    \n",
    "    mx_4 = -1 * np.ones(n).reshape(-1,1)\n",
    "    mx_4_1 = np.zeros(n).reshape(-1,1)\n",
    "    mx_4_2 = np.concatenate((mx_4 , mx_4_1 ) , axis = 0)\n",
    "    \n",
    "    \n",
    "    \n",
    "    p = matrix(mx_1)\n",
    "    q = matrix(mx_2)\n",
    "    g = matrix(mx_3)\n",
    "    h = matrix(mx_4_2)\n",
    "    \n",
    "    sol = solvers.qp(p,q,g,h)\n",
    "    \n",
    "    return sol\n",
    "\n",
    "# linear_svm_primal_C(X_train , y_train , 10)\n",
    "w_primal_soft = []\n",
    "for w in linear_svm_primal_C(X_train , y_train , 10)['x'] :\n",
    "    w_primal_soft.append(w)\n",
    "    \n",
    "w_primal_soft = np.array(w_primal_soft)\n",
    "w_primal_soft = w_primal_soft[:5]\n",
    "w_primal_soft"
   ]
  },
  {
   "cell_type": "markdown",
   "id": "60107f5e",
   "metadata": {},
   "source": [
    "# Dual problem $(maxmize  \\lambda_1 , \\lambda_2 , \\lambda_3 , \\lambda_4 , ... )$\n",
    "## this function return lagrangian mul \n",
    "we want to solve this equation :  $ - \\sum\\limits_{i=1}^N \\sum\\limits_{j=1}^N \\lambda_i \\lambda_j y_i y_j x_i x_j + \\sum\\limits_{i=1}^N \\lambda_i  $ subject to :  $ 0 < \\lambda_i \\leq c $ and\n",
    "$ \\sum\\limits_{i=1}^N \\lambda_i y_i = 0  $\n",
    "# we can get $ W $ from $ \\lambda $ : \n",
    "# $ w =  \\sum\\limits_{i=1}^N \\lambda_i y_i x_i $\n",
    "# we can get $ Bias $ from this :\n",
    "## $ \\lambda_i (y_i (wx_i + b )) = 1 $"
   ]
  },
  {
   "cell_type": "code",
   "execution_count": 3,
   "id": "c7f70857",
   "metadata": {},
   "outputs": [
    {
     "name": "stdout",
     "output_type": "stream",
     "text": [
      "     pcost       dcost       gap    pres   dres\n",
      " 0:  1.8087e+01 -5.9665e+03  2e+04  8e-01  4e-13\n",
      " 1:  1.4317e+02 -1.8823e+03  3e+03  9e-02  4e-13\n",
      " 2:  5.5497e+01 -2.2495e+02  3e+02  6e-03  3e-13\n",
      " 3: -5.2515e+00 -9.6919e+01  9e+01  1e-03  3e-13\n",
      " 4: -2.3713e+01 -6.0336e+01  4e+01  4e-04  3e-13\n",
      " 5: -3.2498e+01 -4.2049e+01  1e+01  4e-05  3e-13\n",
      " 6: -3.5423e+01 -4.0015e+01  5e+00  3e-06  4e-13\n",
      " 7: -3.6831e+01 -3.7686e+01  9e-01  2e-07  4e-13\n",
      " 8: -3.7175e+01 -3.7189e+01  1e-02  2e-09  3e-13\n",
      " 9: -3.7181e+01 -3.7182e+01  1e-04  2e-11  3e-13\n",
      "10: -3.7181e+01 -3.7181e+01  1e-06  2e-13  3e-13\n",
      "Optimal solution found.\n"
     ]
    }
   ],
   "source": [
    "def linear_svm_dual(x , y , c):\n",
    "#     y_i*y_j*x_i*x_j\n",
    "    P = -1 * matrix( -(y @ y.T) * (x @ x.T) , tc='d')\n",
    "#     sigma landa\n",
    "    q = -1 * matrix( np.ones( x.shape[0] ) , tc='d' )\n",
    "#   inequality constraint :  landa sould be positive and sould be less than c and we should get this two constraint in one matrix \n",
    "    G = matrix( np.concatenate( (-1 * np.eye(x.shape[0]) , np.eye(x.shape[0]) ) ) )\n",
    "    h = matrix( np.concatenate(  (np.zeros(x.shape[0]) ,np.ones(x.shape[0]) * c )  ) )\n",
    "#   equality constraint  :  landa * y = 0\n",
    "    A = matrix( y , (1 , x.shape[0] ) , tc='d')\n",
    "    b = matrix( 0.0 )\n",
    "#     print(P.shape(),q.shape(),G.shape(),h.shape(),A.shape(),b.shape())\n",
    "    sol = solvers.qp(P , q , G , h , A , b)\n",
    "    \n",
    "    return sol\n",
    "\n",
    "\n",
    "def w_dual(landa , x , y ):\n",
    "    w_dual = np.zeros(x.shape[1])\n",
    "    for i in range(0,x.shape[0]):\n",
    "        w_dual += landa[i] * y[i] * x[i]\n",
    "        \n",
    "    list_of_big_landa = []\n",
    "    for i in range (0,landa.shape[0]):\n",
    "        if landa[i] > 10**-5 :\n",
    "            list_of_big_landa.append(i)\n",
    "            \n",
    "            \n",
    "    w_x_mul = w_dual @ x[list_of_big_landa].T\n",
    "    w_x_mul = w_x_mul.reshape(-1,1)\n",
    "    \n",
    "    \n",
    "    sum_bias_dual = y[list_of_big_landa] - w_x_mul\n",
    "    bias_dual = sum_bias_dual.sum() / sum_bias_dual.shape[0]\n",
    "    bias_dual = np.array([bias_dual])\n",
    "    w_dual = np.concatenate((w_dual , bias_dual) , axis = 0)\n",
    "    \n",
    "    return(w_dual)\n",
    "\n",
    "landa_coef_soft = []\n",
    "for landa in linear_svm_dual(X_train , y_train , 10)['x'] :\n",
    "    landa_coef_soft.append(landa)\n",
    "landa_coef_soft = np.array(landa_coef_soft).reshape(-1,1)\n",
    "w_dual_soft = w_dual(landa_coef_soft , X_train , y_train )"
   ]
  },
  {
   "cell_type": "code",
   "execution_count": 4,
   "id": "10f4651d",
   "metadata": {},
   "outputs": [
    {
     "name": "stdout",
     "output_type": "stream",
     "text": [
      "[-0.82057721 -1.73051686  2.39600963  3.62226486 -7.76676362]\n",
      "[-0.82057721 -1.73051686  2.39600963  3.62226486 -7.59277309]\n"
     ]
    }
   ],
   "source": [
    "print(w_dual_soft)\n",
    "print(w_primal_soft)"
   ]
  },
  {
   "cell_type": "markdown",
   "id": "cc7fa515",
   "metadata": {},
   "source": [
    "# Strong Duality "
   ]
  },
  {
   "cell_type": "code",
   "execution_count": 5,
   "id": "466576aa",
   "metadata": {},
   "outputs": [
    {
     "name": "stdout",
     "output_type": "stream",
     "text": [
      "0.17399052674241577\n"
     ]
    }
   ],
   "source": [
    "def dist(x,y):\n",
    "    c = 0\n",
    "    for i in zip(x,y):\n",
    "        c += (i[0] - i[1]) ** 2\n",
    "    return c**0.5\n",
    "strong_duality = dist(w_dual_soft,w_primal_soft)\n",
    "print(strong_duality)"
   ]
  },
  {
   "cell_type": "markdown",
   "id": "b10e9e48",
   "metadata": {},
   "source": [
    "## Interference between weights is near to zero so we have Strong Duality "
   ]
  },
  {
   "cell_type": "markdown",
   "id": "783b578d",
   "metadata": {},
   "source": [
    "### this function give X , Y , W and return Recall , Precision , F_score , accuracy \n",
    "## for test data and Accuracy"
   ]
  },
  {
   "cell_type": "code",
   "execution_count": 6,
   "id": "1ce60987",
   "metadata": {},
   "outputs": [],
   "source": [
    "def data_eror(x , y , w):\n",
    "    xx_test = np.concatenate((x , np.ones(x.shape[0]).reshape(-1,1)),axis = 1)\n",
    "    \n",
    "    total_data = x.shape[0]\n",
    "    y_is_true = np.where(y == 1)[0]\n",
    "    y_is_false = np.where(y == -1)[0]\n",
    "    \n",
    "\n",
    "    y_true = []\n",
    "    x_true = []\n",
    "    \n",
    "\n",
    "    y_false = []\n",
    "    x_false = []\n",
    "    \n",
    "    for i in y_is_true :\n",
    "        y_true.append(y[i])\n",
    "        x_true.append(xx_test[i])\n",
    "        \n",
    "    for i in y_is_false :\n",
    "        y_false.append(y[i])\n",
    "        x_false.append(xx_test[i])\n",
    "        \n",
    "    y_true = np.array(y_true)\n",
    "    y_false = np.array(y_false)\n",
    "    x_true = np.array(x_true)\n",
    "    x_false = np.array(x_false)\n",
    "    \n",
    "        \n",
    "    \n",
    "    test_true = x_true @ w\n",
    "    test_true = test_true.reshape(test_true.shape[0] , 1)\n",
    "    values_true = test_true * y_true\n",
    "    \n",
    "    test_false = x_false @ w\n",
    "    test_false = test_false.reshape(test_false.shape[0] , 1)\n",
    "    values_false = test_false * y_false\n",
    "    \n",
    "    T_P = values_true > 0\n",
    "    T_P = T_P.sum()\n",
    "    \n",
    "    T_N = values_false > 0\n",
    "    T_N = T_N.sum()\n",
    "    \n",
    "    F_P = values_false < 0\n",
    "    F_P = F_P.sum()\n",
    "    \n",
    "    F_N = values_true < 0\n",
    "    F_N = F_N.sum()\n",
    "    \n",
    "\n",
    "\n",
    "    \n",
    "    Recall, Precision, accuracy = T_P / (T_P + F_N ) , T_P / (T_P + F_P) , (T_P + T_N) / (T_P + T_N + F_P + F_N)\n",
    "    F_score = (2 * Precision * Recall ) / (Precision + Recall )\n",
    "    \n",
    "    return Recall , Precision , F_score , accuracy , T_P , T_N , F_P , F_N"
   ]
  },
  {
   "cell_type": "code",
   "execution_count": 7,
   "id": "15a90ece",
   "metadata": {},
   "outputs": [],
   "source": [
    "def visualize(x , y , w):\n",
    "    print('Evaluation for test (primal) : ')\n",
    "    print('Recall = ' ,data_eror(x , y , w)[0] )\n",
    "    print('Precision = ' ,data_eror(x , y , w)[1] )\n",
    "    print('F_score = ' ,data_eror(x , y , w)[2] )\n",
    "    print('accuracy = ' ,data_eror(x , y , w)[3] )\n",
    "    confu_primal_test = np.array([[data_eror(x , y , w)[4],  data_eror(x , y , w)[6]],[ data_eror(x , y , w)[7], data_eror(x , y , w)[5]]])\n",
    "    sns.heatmap(confu_primal_test, annot=True)"
   ]
  },
  {
   "cell_type": "code",
   "execution_count": 8,
   "id": "bc62f557",
   "metadata": {},
   "outputs": [],
   "source": [
    "def predict(X, w, b):\n",
    "    return np.sign(np.dot(X, w) + b)\n",
    "\n",
    "def show_line(data, labels, w):\n",
    "    \n",
    "    weights  = w[:4]\n",
    "    bias = w[-1]\n",
    "    \n",
    "    \n",
    "    pca = PCA(n_components=2)\n",
    "    data_pca = pca.fit_transform(data)\n",
    "    \n",
    "    x_min_val = data_pca[:, 0].min() - 1\n",
    "    x_max_val = data_pca[:, 0].max() + 1\n",
    "    y_min_val = data_pca[:, 1].min() - 1\n",
    "    y_max_val = data_pca[:, 1].max() + 1\n",
    "    \n",
    "    x_vals, y_vals = np.meshgrid(np.linspace(x_min_val, x_max_val, 50), np.linspace(y_min_val, y_max_val, 50))\n",
    "    \n",
    "    transformed_data = pca.inverse_transform(np.c_[x_vals.ravel(), y_vals.ravel()])\n",
    "    predictions = predict(transformed_data, weights, bias)\n",
    "    predictions = predictions.reshape(x_vals.shape)\n",
    "    \n",
    "    plt.contourf(x_vals, y_vals, predictions, alpha=0.6, levels=[-1, 0, 1], colors=['blue', 'red'])\n",
    "    \n",
    "    \n",
    "    colors = []\n",
    "    for  i in labels :\n",
    "        if i == -1 :\n",
    "            colors.append('white')\n",
    "        else :\n",
    "            colors.append('black')\n",
    "            \n",
    "            \n",
    "    \n",
    "    plt.scatter(data_pca[:, 0], data_pca[:, 1], c=colors)\n",
    "    plt.title('Data and Svm line')\n",
    "    plt.show()"
   ]
  },
  {
   "cell_type": "markdown",
   "id": "013141e7",
   "metadata": {},
   "source": [
    "# Primal "
   ]
  },
  {
   "cell_type": "markdown",
   "id": "2f633e3c",
   "metadata": {},
   "source": [
    "### Train"
   ]
  },
  {
   "cell_type": "code",
   "execution_count": 9,
   "id": "e2bd200e",
   "metadata": {},
   "outputs": [
    {
     "data": {
      "image/png": "[encoded data removed]",
      "text/plain": [
       "<Figure size 640x480 with 1 Axes>"
      ]
     },
     "metadata": {},
     "output_type": "display_data"
    }
   ],
   "source": [
    "show_line(X_train, y_train , w_primal_soft)"
   ]
  },
  {
   "cell_type": "code",
   "execution_count": 10,
   "id": "cbeca3a3",
   "metadata": {},
   "outputs": [
    {
     "name": "stdout",
     "output_type": "stream",
     "text": [
      "Evaluation for test (primal) : \n",
      "Recall =  1.0\n",
      "Precision =  0.9767441860465116\n",
      "F_score =  0.988235294117647\n",
      "accuracy =  0.9875\n"
     ]
    },
    {
     "data": {
      "image/png": "[encoded data removed]",
      "text/plain": [
       "<Figure size 640x480 with 2 Axes>"
      ]
     },
     "metadata": {},
     "output_type": "display_data"
    }
   ],
   "source": [
    "visualize(X_train , y_train ,w_primal_soft )"
   ]
  },
  {
   "cell_type": "markdown",
   "id": "c7eaebd8",
   "metadata": {},
   "source": [
    "### Test"
   ]
  },
  {
   "cell_type": "code",
   "execution_count": 11,
   "id": "71cb7d77",
   "metadata": {},
   "outputs": [
    {
     "data": {
      "image/png": "[encoded data removed]",
      "text/plain": [
       "<Figure size 640x480 with 1 Axes>"
      ]
     },
     "metadata": {},
     "output_type": "display_data"
    }
   ],
   "source": [
    "show_line(X_test , y_test , w_primal_soft)"
   ]
  },
  {
   "cell_type": "code",
   "execution_count": 12,
   "id": "95273ed4",
   "metadata": {},
   "outputs": [
    {
     "name": "stdout",
     "output_type": "stream",
     "text": [
      "Evaluation for test (primal) : \n",
      "Recall =  1.0\n",
      "Precision =  0.8\n",
      "F_score =  0.888888888888889\n",
      "accuracy =  0.9\n"
     ]
    },
    {
     "data": {
      "image/png": "[encoded data removed]",
      "text/plain": [
       "<Figure size 640x480 with 2 Axes>"
      ]
     },
     "metadata": {},
     "output_type": "display_data"
    }
   ],
   "source": [
    "visualize(X_test , y_test ,w_primal_soft )"
   ]
  },
  {
   "cell_type": "markdown",
   "id": "683a9249",
   "metadata": {},
   "source": [
    "# Dual "
   ]
  },
  {
   "cell_type": "markdown",
   "id": "11e30a66",
   "metadata": {},
   "source": [
    "### Train"
   ]
  },
  {
   "cell_type": "code",
   "execution_count": 13,
   "id": "6507bf6c",
   "metadata": {},
   "outputs": [
    {
     "data": {
      "image/png": "[encoded data removed]",
      "text/plain": [
       "<Figure size 640x480 with 1 Axes>"
      ]
     },
     "metadata": {},
     "output_type": "display_data"
    }
   ],
   "source": [
    "show_line(X_train, y_train , w_dual_soft)"
   ]
  },
  {
   "cell_type": "code",
   "execution_count": 14,
   "id": "dbdc9de0",
   "metadata": {},
   "outputs": [
    {
     "name": "stdout",
     "output_type": "stream",
     "text": [
      "Evaluation for test (primal) : \n",
      "Recall =  1.0\n",
      "Precision =  1.0\n",
      "F_score =  1.0\n",
      "accuracy =  1.0\n"
     ]
    },
    {
     "data": {
      "image/png": "[encoded data removed]",
      "text/plain": [
       "<Figure size 640x480 with 2 Axes>"
      ]
     },
     "metadata": {},
     "output_type": "display_data"
    }
   ],
   "source": [
    "visualize(X_train , y_train ,w_dual_soft )"
   ]
  },
  {
   "cell_type": "markdown",
   "id": "afe3f277",
   "metadata": {},
   "source": [
    "### Test"
   ]
  },
  {
   "cell_type": "code",
   "execution_count": 15,
   "id": "1b274de4",
   "metadata": {},
   "outputs": [
    {
     "data": {
      "image/png": "[encoded data removed]",
      "text/plain": [
       "<Figure size 640x480 with 1 Axes>"
      ]
     },
     "metadata": {},
     "output_type": "display_data"
    }
   ],
   "source": [
    "show_line(X_test , y_test , w_dual_soft)"
   ]
  },
  {
   "cell_type": "code",
   "execution_count": 16,
   "id": "5c5d4df0",
   "metadata": {},
   "outputs": [
    {
     "name": "stdout",
     "output_type": "stream",
     "text": [
      "Evaluation for test (primal) : \n",
      "Recall =  0.875\n",
      "Precision =  0.875\n",
      "F_score =  0.875\n",
      "accuracy =  0.9\n"
     ]
    },
    {
     "data": {
      "image/png": "[encoded data removed]",
      "text/plain": [
       "<Figure size 640x480 with 2 Axes>"
      ]
     },
     "metadata": {},
     "output_type": "display_data"
    }
   ],
   "source": [
    "visualize(X_test , y_test ,w_dual_soft )"
   ]
  },
  {
   "cell_type": "markdown",
   "id": "7404f8c4",
   "metadata": {},
   "source": [
    "# Multi Classes"
   ]
  },
  {
   "cell_type": "code",
   "execution_count": 17,
   "id": "91976b51",
   "metadata": {},
   "outputs": [],
   "source": [
    "iris = load_iris()\n",
    "# Now, you can access the features and target variables\n",
    "X_multi_class = iris.data  # features\n",
    "y_multi_class = iris.target  # target variable\n",
    "y_multi_class = y_multi_class.reshape(y_multi_class.shape[0],1)"
   ]
  },
  {
   "cell_type": "markdown",
   "id": "a96a78ef",
   "metadata": {},
   "source": [
    "In order to be able to implement the multi-class mode, we can follow the point of view of placing one class in front of other classes. That is, in each step, we give one class a label of 1 and other classes get a label of -1"
   ]
  },
  {
   "cell_type": "code",
   "execution_count": 18,
   "id": "704e6bf1",
   "metadata": {},
   "outputs": [
    {
     "name": "stdout",
     "output_type": "stream",
     "text": [
      "     pcost       dcost       gap    pres   dres\n",
      " 0: -1.4249e+04  8.4938e+03  3e+04  2e+01  3e+01\n",
      " 1: -1.1789e+02 -1.2284e+03  4e+03  2e+00  3e+00\n",
      " 2:  3.0952e+01 -1.6991e+02  5e+02  2e-01  3e-01\n",
      " 3:  1.5090e+01 -1.2753e+01  3e+01  5e-03  6e-03\n",
      " 4:  2.9761e+00 -1.0655e+00  4e+00  3e-15  3e-16\n",
      " 5:  1.0780e+00  1.4376e-01  9e-01  1e-15  5e-16\n",
      " 6:  8.2854e-01  3.9582e-01  4e-01  1e-15  2e-15\n",
      " 7:  9.0176e-01  5.1658e-01  4e-01  1e-15  2e-15\n",
      " 8:  8.1098e-01  6.5641e-01  2e-01  6e-16  3e-15\n",
      " 9:  7.9469e-01  7.1133e-01  8e-02  7e-16  1e-15\n",
      "10:  7.4870e-01  7.4750e-01  1e-03  8e-16  6e-15\n",
      "11:  7.4806e-01  7.4805e-01  1e-05  8e-16  2e-14\n",
      "12:  7.4806e-01  7.4806e-01  1e-07  7e-16  1e-14\n",
      "Optimal solution found.\n",
      "     pcost       dcost       gap    pres   dres\n",
      " 0: -9.3232e+03  7.2511e+03  2e+04  2e+01  1e+01\n",
      " 1:  3.4823e+03  4.5734e+02  3e+03  4e-15  2e-14\n",
      " 2:  1.1141e+03  6.0855e+02  5e+02  4e-15  2e-13\n",
      " 3:  9.6348e+02  7.5036e+02  2e+02  2e-15  2e-13\n",
      " 4:  8.9778e+02  7.9545e+02  1e+02  1e-15  2e-13\n",
      " 5:  8.5791e+02  8.2425e+02  3e+01  9e-16  1e-13\n",
      " 6:  8.4032e+02  8.3698e+02  3e+00  1e-15  3e-13\n",
      " 7:  8.3860e+02  8.3833e+02  3e-01  8e-16  2e-12\n",
      " 8:  8.3846e+02  8.3844e+02  1e-02  8e-16  1e-12\n",
      " 9:  8.3845e+02  8.3845e+02  1e-04  1e-15  2e-12\n",
      "Optimal solution found.\n",
      "     pcost       dcost       gap    pres   dres\n",
      " 0: -1.2024e+04  6.2747e+03  2e+04  2e+01  9e+00\n",
      " 1: -2.1018e+03 -8.8728e+02  5e+03  5e+00  2e+00\n",
      " 2: -6.2281e+02 -6.8938e+02  2e+03  2e+00  8e-01\n",
      " 3:  4.4915e+01 -9.8210e+01  5e+02  3e-01  1e-01\n",
      " 4:  1.0354e+02  4.7893e+01  1e+02  4e-02  2e-02\n",
      " 5:  9.4306e+01  6.9577e+01  4e+01  2e-02  7e-03\n",
      " 6:  1.0064e+02  7.9694e+01  3e+01  5e-03  2e-03\n",
      " 7:  9.3134e+01  8.6695e+01  8e+00  1e-03  7e-04\n",
      " 8:  8.9858e+01  8.9753e+01  1e-01  1e-05  7e-06\n",
      " 9:  8.9797e+01  8.9796e+01  1e-03  1e-07  7e-08\n",
      "10:  8.9796e+01  8.9796e+01  1e-05  1e-09  7e-10\n",
      "Optimal solution found.\n",
      "     pcost       dcost       gap    pres   dres\n",
      " 0: -1.4249e+04  8.4938e+03  3e+04  2e+01  3e+01\n",
      " 1: -1.1789e+02 -1.2284e+03  4e+03  2e+00  3e+00\n",
      " 2:  3.0952e+01 -1.6991e+02  5e+02  2e-01  3e-01\n",
      " 3:  1.5090e+01 -1.2753e+01  3e+01  5e-03  6e-03\n",
      " 4:  2.9761e+00 -1.0655e+00  4e+00  3e-15  3e-16\n",
      " 5:  1.0780e+00  1.4376e-01  9e-01  1e-15  5e-16\n",
      " 6:  8.2854e-01  3.9582e-01  4e-01  1e-15  2e-15\n",
      " 7:  9.0176e-01  5.1658e-01  4e-01  1e-15  2e-15\n",
      " 8:  8.1098e-01  6.5641e-01  2e-01  6e-16  3e-15\n",
      " 9:  7.9469e-01  7.1133e-01  8e-02  7e-16  1e-15\n",
      "10:  7.4870e-01  7.4750e-01  1e-03  8e-16  6e-15\n",
      "11:  7.4806e-01  7.4805e-01  1e-05  8e-16  2e-14\n",
      "12:  7.4806e-01  7.4806e-01  1e-07  7e-16  1e-14\n",
      "Optimal solution found.\n",
      "     pcost       dcost       gap    pres   dres\n",
      " 0: -9.3232e+03  7.2511e+03  2e+04  2e+01  1e+01\n",
      " 1:  3.4823e+03  4.5734e+02  3e+03  4e-15  2e-14\n",
      " 2:  1.1141e+03  6.0855e+02  5e+02  4e-15  2e-13\n",
      " 3:  9.6348e+02  7.5036e+02  2e+02  2e-15  2e-13\n",
      " 4:  8.9778e+02  7.9545e+02  1e+02  1e-15  2e-13\n",
      " 5:  8.5791e+02  8.2425e+02  3e+01  9e-16  1e-13\n",
      " 6:  8.4032e+02  8.3698e+02  3e+00  1e-15  3e-13\n",
      " 7:  8.3860e+02  8.3833e+02  3e-01  8e-16  2e-12\n",
      " 8:  8.3846e+02  8.3844e+02  1e-02  8e-16  1e-12\n",
      " 9:  8.3845e+02  8.3845e+02  1e-04  1e-15  2e-12\n",
      "Optimal solution found.\n",
      "     pcost       dcost       gap    pres   dres\n",
      " 0: -1.2024e+04  6.2747e+03  2e+04  2e+01  9e+00\n",
      " 1: -2.1018e+03 -8.8728e+02  5e+03  5e+00  2e+00\n",
      " 2: -6.2281e+02 -6.8938e+02  2e+03  2e+00  8e-01\n",
      " 3:  4.4915e+01 -9.8210e+01  5e+02  3e-01  1e-01\n",
      " 4:  1.0354e+02  4.7893e+01  1e+02  4e-02  2e-02\n",
      " 5:  9.4306e+01  6.9577e+01  4e+01  2e-02  7e-03\n",
      " 6:  1.0064e+02  7.9694e+01  3e+01  5e-03  2e-03\n",
      " 7:  9.3134e+01  8.6695e+01  8e+00  1e-03  7e-04\n",
      " 8:  8.9858e+01  8.9753e+01  1e-01  1e-05  7e-06\n",
      " 9:  8.9797e+01  8.9796e+01  1e-03  1e-07  7e-08\n",
      "10:  8.9796e+01  8.9796e+01  1e-05  1e-09  7e-10\n",
      "Optimal solution found.\n",
      "     pcost       dcost       gap    pres   dres\n",
      " 0: -1.4249e+04  8.4938e+03  3e+04  2e+01  3e+01\n",
      " 1: -1.1789e+02 -1.2284e+03  4e+03  2e+00  3e+00\n",
      " 2:  3.0952e+01 -1.6991e+02  5e+02  2e-01  3e-01\n",
      " 3:  1.5090e+01 -1.2753e+01  3e+01  5e-03  6e-03\n",
      " 4:  2.9761e+00 -1.0655e+00  4e+00  3e-15  3e-16\n",
      " 5:  1.0780e+00  1.4376e-01  9e-01  1e-15  5e-16\n",
      " 6:  8.2854e-01  3.9582e-01  4e-01  1e-15  2e-15\n",
      " 7:  9.0176e-01  5.1658e-01  4e-01  1e-15  2e-15\n",
      " 8:  8.1098e-01  6.5641e-01  2e-01  6e-16  3e-15\n",
      " 9:  7.9469e-01  7.1133e-01  8e-02  7e-16  1e-15\n",
      "10:  7.4870e-01  7.4750e-01  1e-03  8e-16  6e-15\n",
      "11:  7.4806e-01  7.4805e-01  1e-05  8e-16  2e-14\n",
      "12:  7.4806e-01  7.4806e-01  1e-07  7e-16  1e-14\n",
      "Optimal solution found.\n",
      "     pcost       dcost       gap    pres   dres\n",
      " 0: -9.3232e+03  7.2511e+03  2e+04  2e+01  1e+01\n",
      " 1:  3.4823e+03  4.5734e+02  3e+03  4e-15  2e-14\n",
      " 2:  1.1141e+03  6.0855e+02  5e+02  4e-15  2e-13\n",
      " 3:  9.6348e+02  7.5036e+02  2e+02  2e-15  2e-13\n",
      " 4:  8.9778e+02  7.9545e+02  1e+02  1e-15  2e-13\n",
      " 5:  8.5791e+02  8.2425e+02  3e+01  9e-16  1e-13\n",
      " 6:  8.4032e+02  8.3698e+02  3e+00  1e-15  3e-13\n",
      " 7:  8.3860e+02  8.3833e+02  3e-01  8e-16  2e-12\n",
      " 8:  8.3846e+02  8.3844e+02  1e-02  8e-16  1e-12\n",
      " 9:  8.3845e+02  8.3845e+02  1e-04  1e-15  2e-12\n",
      "Optimal solution found.\n",
      "     pcost       dcost       gap    pres   dres\n",
      " 0: -1.2024e+04  6.2747e+03  2e+04  2e+01  9e+00\n",
      " 1: -2.1018e+03 -8.8728e+02  5e+03  5e+00  2e+00\n",
      " 2: -6.2281e+02 -6.8938e+02  2e+03  2e+00  8e-01\n",
      " 3:  4.4915e+01 -9.8210e+01  5e+02  3e-01  1e-01\n",
      " 4:  1.0354e+02  4.7893e+01  1e+02  4e-02  2e-02\n",
      " 5:  9.4306e+01  6.9577e+01  4e+01  2e-02  7e-03\n",
      " 6:  1.0064e+02  7.9694e+01  3e+01  5e-03  2e-03\n",
      " 7:  9.3134e+01  8.6695e+01  8e+00  1e-03  7e-04\n",
      " 8:  8.9858e+01  8.9753e+01  1e-01  1e-05  7e-06\n",
      " 9:  8.9797e+01  8.9796e+01  1e-03  1e-07  7e-08\n",
      "10:  8.9796e+01  8.9796e+01  1e-05  1e-09  7e-10\n",
      "Optimal solution found.\n",
      "     pcost       dcost       gap    pres   dres\n",
      " 0: -1.4249e+04  8.4938e+03  3e+04  2e+01  3e+01\n",
      " 1: -1.1789e+02 -1.2284e+03  4e+03  2e+00  3e+00\n",
      " 2:  3.0952e+01 -1.6991e+02  5e+02  2e-01  3e-01\n",
      " 3:  1.5090e+01 -1.2753e+01  3e+01  5e-03  6e-03\n",
      " 4:  2.9761e+00 -1.0655e+00  4e+00  3e-15  3e-16\n",
      " 5:  1.0780e+00  1.4376e-01  9e-01  1e-15  5e-16\n",
      " 6:  8.2854e-01  3.9582e-01  4e-01  1e-15  2e-15\n",
      " 7:  9.0176e-01  5.1658e-01  4e-01  1e-15  2e-15\n",
      " 8:  8.1098e-01  6.5641e-01  2e-01  6e-16  3e-15\n",
      " 9:  7.9469e-01  7.1133e-01  8e-02  7e-16  1e-15\n",
      "10:  7.4870e-01  7.4750e-01  1e-03  8e-16  6e-15\n",
      "11:  7.4806e-01  7.4805e-01  1e-05  8e-16  2e-14\n",
      "12:  7.4806e-01  7.4806e-01  1e-07  7e-16  1e-14\n",
      "Optimal solution found.\n",
      "     pcost       dcost       gap    pres   dres\n",
      " 0: -9.3232e+03  7.2511e+03  2e+04  2e+01  1e+01\n",
      " 1:  3.4823e+03  4.5734e+02  3e+03  4e-15  2e-14\n",
      " 2:  1.1141e+03  6.0855e+02  5e+02  4e-15  2e-13\n",
      " 3:  9.6348e+02  7.5036e+02  2e+02  2e-15  2e-13\n",
      " 4:  8.9778e+02  7.9545e+02  1e+02  1e-15  2e-13\n",
      " 5:  8.5791e+02  8.2425e+02  3e+01  9e-16  1e-13\n",
      " 6:  8.4032e+02  8.3698e+02  3e+00  1e-15  3e-13\n",
      " 7:  8.3860e+02  8.3833e+02  3e-01  8e-16  2e-12\n",
      " 8:  8.3846e+02  8.3844e+02  1e-02  8e-16  1e-12\n",
      " 9:  8.3845e+02  8.3845e+02  1e-04  1e-15  2e-12\n",
      "Optimal solution found.\n",
      "     pcost       dcost       gap    pres   dres\n",
      " 0: -1.2024e+04  6.2747e+03  2e+04  2e+01  9e+00\n",
      " 1: -2.1018e+03 -8.8728e+02  5e+03  5e+00  2e+00\n",
      " 2: -6.2281e+02 -6.8938e+02  2e+03  2e+00  8e-01\n",
      " 3:  4.4915e+01 -9.8210e+01  5e+02  3e-01  1e-01\n",
      " 4:  1.0354e+02  4.7893e+01  1e+02  4e-02  2e-02\n",
      " 5:  9.4306e+01  6.9577e+01  4e+01  2e-02  7e-03\n",
      " 6:  1.0064e+02  7.9694e+01  3e+01  5e-03  2e-03\n",
      " 7:  9.3134e+01  8.6695e+01  8e+00  1e-03  7e-04\n",
      " 8:  8.9858e+01  8.9753e+01  1e-01  1e-05  7e-06\n",
      " 9:  8.9797e+01  8.9796e+01  1e-03  1e-07  7e-08\n",
      "10:  8.9796e+01  8.9796e+01  1e-05  1e-09  7e-10\n",
      "Optimal solution found.\n",
      "     pcost       dcost       gap    pres   dres\n",
      " 0: -1.4249e+04  8.4938e+03  3e+04  2e+01  3e+01\n",
      " 1: -1.1789e+02 -1.2284e+03  4e+03  2e+00  3e+00\n",
      " 2:  3.0952e+01 -1.6991e+02  5e+02  2e-01  3e-01\n",
      " 3:  1.5090e+01 -1.2753e+01  3e+01  5e-03  6e-03\n",
      " 4:  2.9761e+00 -1.0655e+00  4e+00  3e-15  3e-16\n",
      " 5:  1.0780e+00  1.4376e-01  9e-01  1e-15  5e-16\n",
      " 6:  8.2854e-01  3.9582e-01  4e-01  1e-15  2e-15\n",
      " 7:  9.0176e-01  5.1658e-01  4e-01  1e-15  2e-15\n",
      " 8:  8.1098e-01  6.5641e-01  2e-01  6e-16  3e-15\n",
      " 9:  7.9469e-01  7.1133e-01  8e-02  7e-16  1e-15\n",
      "10:  7.4870e-01  7.4750e-01  1e-03  8e-16  6e-15\n",
      "11:  7.4806e-01  7.4805e-01  1e-05  8e-16  2e-14\n",
      "12:  7.4806e-01  7.4806e-01  1e-07  7e-16  1e-14\n",
      "Optimal solution found.\n",
      "     pcost       dcost       gap    pres   dres\n",
      " 0: -9.3232e+03  7.2511e+03  2e+04  2e+01  1e+01\n",
      " 1:  3.4823e+03  4.5734e+02  3e+03  4e-15  2e-14\n",
      " 2:  1.1141e+03  6.0855e+02  5e+02  4e-15  2e-13\n",
      " 3:  9.6348e+02  7.5036e+02  2e+02  2e-15  2e-13\n",
      " 4:  8.9778e+02  7.9545e+02  1e+02  1e-15  2e-13\n",
      " 5:  8.5791e+02  8.2425e+02  3e+01  9e-16  1e-13\n",
      " 6:  8.4032e+02  8.3698e+02  3e+00  1e-15  3e-13\n",
      " 7:  8.3860e+02  8.3833e+02  3e-01  8e-16  2e-12\n",
      " 8:  8.3846e+02  8.3844e+02  1e-02  8e-16  1e-12\n"
     ]
    },
    {
     "name": "stdout",
     "output_type": "stream",
     "text": [
      " 9:  8.3845e+02  8.3845e+02  1e-04  1e-15  2e-12\n",
      "Optimal solution found.\n",
      "     pcost       dcost       gap    pres   dres\n",
      " 0: -1.2024e+04  6.2747e+03  2e+04  2e+01  9e+00\n",
      " 1: -2.1018e+03 -8.8728e+02  5e+03  5e+00  2e+00\n",
      " 2: -6.2281e+02 -6.8938e+02  2e+03  2e+00  8e-01\n",
      " 3:  4.4915e+01 -9.8210e+01  5e+02  3e-01  1e-01\n",
      " 4:  1.0354e+02  4.7893e+01  1e+02  4e-02  2e-02\n",
      " 5:  9.4306e+01  6.9577e+01  4e+01  2e-02  7e-03\n",
      " 6:  1.0064e+02  7.9694e+01  3e+01  5e-03  2e-03\n",
      " 7:  9.3134e+01  8.6695e+01  8e+00  1e-03  7e-04\n",
      " 8:  8.9858e+01  8.9753e+01  1e-01  1e-05  7e-06\n",
      " 9:  8.9797e+01  8.9796e+01  1e-03  1e-07  7e-08\n",
      "10:  8.9796e+01  8.9796e+01  1e-05  1e-09  7e-10\n",
      "Optimal solution found.\n",
      "     pcost       dcost       gap    pres   dres\n",
      " 0: -1.4249e+04  8.4938e+03  3e+04  2e+01  3e+01\n",
      " 1: -1.1789e+02 -1.2284e+03  4e+03  2e+00  3e+00\n",
      " 2:  3.0952e+01 -1.6991e+02  5e+02  2e-01  3e-01\n",
      " 3:  1.5090e+01 -1.2753e+01  3e+01  5e-03  6e-03\n",
      " 4:  2.9761e+00 -1.0655e+00  4e+00  3e-15  3e-16\n",
      " 5:  1.0780e+00  1.4376e-01  9e-01  1e-15  5e-16\n",
      " 6:  8.2854e-01  3.9582e-01  4e-01  1e-15  2e-15\n",
      " 7:  9.0176e-01  5.1658e-01  4e-01  1e-15  2e-15\n",
      " 8:  8.1098e-01  6.5641e-01  2e-01  6e-16  3e-15\n",
      " 9:  7.9469e-01  7.1133e-01  8e-02  7e-16  1e-15\n",
      "10:  7.4870e-01  7.4750e-01  1e-03  8e-16  6e-15\n",
      "11:  7.4806e-01  7.4805e-01  1e-05  8e-16  2e-14\n",
      "12:  7.4806e-01  7.4806e-01  1e-07  7e-16  1e-14\n",
      "Optimal solution found.\n",
      "     pcost       dcost       gap    pres   dres\n",
      " 0: -9.3232e+03  7.2511e+03  2e+04  2e+01  1e+01\n",
      " 1:  3.4823e+03  4.5734e+02  3e+03  4e-15  2e-14\n",
      " 2:  1.1141e+03  6.0855e+02  5e+02  4e-15  2e-13\n",
      " 3:  9.6348e+02  7.5036e+02  2e+02  2e-15  2e-13\n",
      " 4:  8.9778e+02  7.9545e+02  1e+02  1e-15  2e-13\n",
      " 5:  8.5791e+02  8.2425e+02  3e+01  9e-16  1e-13\n",
      " 6:  8.4032e+02  8.3698e+02  3e+00  1e-15  3e-13\n",
      " 7:  8.3860e+02  8.3833e+02  3e-01  8e-16  2e-12\n",
      " 8:  8.3846e+02  8.3844e+02  1e-02  8e-16  1e-12\n",
      " 9:  8.3845e+02  8.3845e+02  1e-04  1e-15  2e-12\n",
      "Optimal solution found.\n",
      "     pcost       dcost       gap    pres   dres\n",
      " 0: -1.2024e+04  6.2747e+03  2e+04  2e+01  9e+00\n",
      " 1: -2.1018e+03 -8.8728e+02  5e+03  5e+00  2e+00\n",
      " 2: -6.2281e+02 -6.8938e+02  2e+03  2e+00  8e-01\n",
      " 3:  4.4915e+01 -9.8210e+01  5e+02  3e-01  1e-01\n",
      " 4:  1.0354e+02  4.7893e+01  1e+02  4e-02  2e-02\n",
      " 5:  9.4306e+01  6.9577e+01  4e+01  2e-02  7e-03\n",
      " 6:  1.0064e+02  7.9694e+01  3e+01  5e-03  2e-03\n",
      " 7:  9.3134e+01  8.6695e+01  8e+00  1e-03  7e-04\n",
      " 8:  8.9858e+01  8.9753e+01  1e-01  1e-05  7e-06\n",
      " 9:  8.9797e+01  8.9796e+01  1e-03  1e-07  7e-08\n",
      "10:  8.9796e+01  8.9796e+01  1e-05  1e-09  7e-10\n",
      "Optimal solution found.\n"
     ]
    }
   ],
   "source": [
    "def multiclass_svm(x , y , c):\n",
    "    y1 = np.where(y == 0, 1, -1)\n",
    "    y2 = np.where(y == 1, 1, -1)\n",
    "    y3 = np.where(y == 2, 1, -1)\n",
    "    \n",
    "    w_1 = []\n",
    "    w_2 = []\n",
    "    w_3 = []\n",
    "    for i in linear_svm_primal_C(x , y1 , c)['x']:\n",
    "        w_1.append(i)\n",
    "        \n",
    "    for i in linear_svm_primal_C(x , y2 , c)['x']:\n",
    "        w_2.append(i)\n",
    "    \n",
    "    for i in linear_svm_primal_C(x , y3 , c)['x']:\n",
    "        w_3.append(i)\n",
    "        \n",
    "    w_1 , w_2 , w_3 = np.array(w_1) , np.array(w_2) , np.array(w_3)\n",
    "    w_1 , w_2 , w_3 = np.array(w_1[:5]) , np.array(w_2[:5]) , np.array(w_3[:5])\n",
    "        \n",
    "    return w_1 , w_2 , w_3 , y1 , y2 , y3\n",
    "\n",
    "w_1 = []\n",
    "for i in multiclass_svm(X_multi_class , y_multi_class , 10)[0] :\n",
    "    w_1.append(i)\n",
    "w_2 = []\n",
    "for i in multiclass_svm(X_multi_class , y_multi_class , 10)[1] :\n",
    "    w_2.append(i)\n",
    "w_3 = []\n",
    "for i in multiclass_svm(X_multi_class , y_multi_class , 10)[2] :\n",
    "    w_3.append(i)\n",
    "y_1 = []\n",
    "for i in multiclass_svm(X_multi_class , y_multi_class , 10)[3] :\n",
    "    y_1.append(i)\n",
    "y_2 = []\n",
    "for i in multiclass_svm(X_multi_class , y_multi_class , 10)[4] :\n",
    "    y_2.append(i)\n",
    "y_3 = []\n",
    "for i in multiclass_svm(X_multi_class , y_multi_class , 10)[5] :\n",
    "    y_3.append(i)"
   ]
  },
  {
   "cell_type": "code",
   "execution_count": 19,
   "id": "fa914b94",
   "metadata": {},
   "outputs": [],
   "source": [
    "w_1 = np.array(w_1) \n",
    "w_2 = np.array(w_2)\n",
    "w_3 =  np.array(w_3)\n",
    "y_1 = np.array(y_1)\n",
    "y_2 = np.array(y_2)\n",
    "y_3 = np.array(y_3)"
   ]
  },
  {
   "cell_type": "code",
   "execution_count": 20,
   "id": "7a190398",
   "metadata": {},
   "outputs": [
    {
     "name": "stdout",
     "output_type": "stream",
     "text": [
      "Evaluation for test (primal) : \n",
      "Recall =  1.0\n",
      "Precision =  1.0\n",
      "F_score =  1.0\n",
      "accuracy =  1.0\n"
     ]
    },
    {
     "data": {
      "image/png": "[encoded data removed]",
      "text/plain": [
       "<Figure size 640x480 with 2 Axes>"
      ]
     },
     "metadata": {},
     "output_type": "display_data"
    }
   ],
   "source": [
    "visualize(X_multi_class , y_1 ,w_1 )"
   ]
  },
  {
   "cell_type": "code",
   "execution_count": 21,
   "id": "ad8038b9",
   "metadata": {},
   "outputs": [
    {
     "name": "stdout",
     "output_type": "stream",
     "text": [
      "Evaluation for test (primal) : \n",
      "Recall =  1.0\n",
      "Precision =  0.9433962264150944\n",
      "F_score =  0.970873786407767\n",
      "accuracy =  0.98\n"
     ]
    },
    {
     "data": {
      "image/png": "[encoded data removed]",
      "text/plain": [
       "<Figure size 640x480 with 2 Axes>"
      ]
     },
     "metadata": {},
     "output_type": "display_data"
    }
   ],
   "source": [
    "visualize(X_multi_class , y_3 ,w_3 )"
   ]
  }
 ],
 "metadata": {
  "kernelspec": {
   "display_name": "Python 3 (ipykernel)",
   "language": "python",
   "name": "python3"
  },
  "language_info": {
   "codemirror_mode": {
    "name": "ipython",
    "version": 3
   },
   "file_extension": ".py",
   "mimetype": "text/x-python",
   "name": "python",
   "nbconvert_exporter": "python",
   "pygments_lexer": "ipython3",
   "version": "3.11.5"
  }
 },
 "nbformat": 4,
 "nbformat_minor": 5
}
